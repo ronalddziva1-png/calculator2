{
 "cells": [
  {
   "cell_type": "code",
   "execution_count": 1,
   "id": "4edc88c7-6aa7-4287-83c2-929ab741df23",
   "metadata": {},
   "outputs": [
    {
     "name": "stdout",
     "output_type": "stream",
     "text": [
      "\n",
      "Simple Calculator\n",
      "1. Add\n",
      "2. Subtract\n",
      "3. Multiply\n",
      "4. Divide\n",
      "5. Clear\n",
      "6. Reset / Exit\n"
     ]
    },
    {
     "name": "stdin",
     "output_type": "stream",
     "text": [
      "Choose an operation (1-6):  4\n",
      "Enter first number:  8\n",
      "Enter second number:  2\n"
     ]
    },
    {
     "name": "stdout",
     "output_type": "stream",
     "text": [
      "Result: 4.0\n",
      "\n",
      "Simple Calculator\n",
      "1. Add\n",
      "2. Subtract\n",
      "3. Multiply\n",
      "4. Divide\n",
      "5. Clear\n",
      "6. Reset / Exit\n"
     ]
    },
    {
     "name": "stdin",
     "output_type": "stream",
     "text": [
      "Choose an operation (1-6):  6\n"
     ]
    },
    {
     "name": "stdout",
     "output_type": "stream",
     "text": [
      "Calculator reset. Goodbye!\n"
     ]
    }
   ],
   "source": [
    "def calculator():\n",
    "    while True:\n",
    "        print(\"\\nSimple Calculator\")\n",
    "        print(\"1. Add\")\n",
    "        print(\"2. Subtract\")\n",
    "        print(\"3. Multiply\")\n",
    "        print(\"4. Divide\")\n",
    "        print(\"5. Clear\")\n",
    "        print(\"6. Reset / Exit\")\n",
    "        \n",
    "        choice = input(\"Choose an operation (1-6): \")\n",
    "\n",
    "        if choice == '6':\n",
    "            print(\"Calculator reset. Goodbye!\")\n",
    "            break\n",
    "        elif choice == '5':\n",
    "            print(\"Cleared. You can continue.\")\n",
    "            continue\n",
    "        elif choice in ('1', '2', '3', '4'):\n",
    "            try:\n",
    "                num1 = float(input(\"Enter first number: \"))\n",
    "                num2 = float(input(\"Enter second number: \"))\n",
    "\n",
    "                if choice == '1':\n",
    "                    print(\"Result:\", num1 + num2)\n",
    "                elif choice == '2':\n",
    "                    print(\"Result:\", num1 - num2)\n",
    "                elif choice == '3':\n",
    "                    print(\"Result:\", num1 * num2)\n",
    "                elif choice == '4':\n",
    "                    if num2 != 0:\n",
    "                        print(\"Result:\", num1 / num2)\n",
    "                    else:\n",
    "                        print(\"Error: Division by zero\")\n",
    "            except ValueError:\n",
    "                print(\"Invalid input! Please enter numbers only.\")\n",
    "        else:\n",
    "            print(\"Invalid choice, try again.\")\n",
    "\n",
    "calculator()"
   ]
  },
  {
   "cell_type": "code",
   "execution_count": null,
   "id": "235c8e28-3c60-405d-bccd-51645eed5233",
   "metadata": {},
   "outputs": [],
   "source": []
  }
 ],
 "metadata": {
  "kernelspec": {
   "display_name": "Python [conda env:base] *",
   "language": "python",
   "name": "conda-base-py"
  },
  "language_info": {
   "codemirror_mode": {
    "name": "ipython",
    "version": 3
   },
   "file_extension": ".py",
   "mimetype": "text/x-python",
   "name": "python",
   "nbconvert_exporter": "python",
   "pygments_lexer": "ipython3",
   "version": "3.12.7"
  }
 },
 "nbformat": 4,
 "nbformat_minor": 5
}
